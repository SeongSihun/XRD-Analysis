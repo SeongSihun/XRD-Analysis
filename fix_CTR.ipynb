{
 "cells": [
  {
   "cell_type": "code",
   "execution_count": 135,
   "metadata": {},
   "outputs": [],
   "source": [
    "%reset -f\n",
    "import matplotlib.pyplot as plt\n",
    "from matplotlib.colors import LogNorm\n",
    "import numpy as np\n",
    "from CTR import *\n",
    "from CTR.PIticks import PIticks\n",
    "import numpy as np\n",
    "import json\n",
    "import traceback\n",
    "import pandas as pd"
   ]
  },
  {
   "cell_type": "code",
   "execution_count": 136,
   "metadata": {},
   "outputs": [],
   "source": [
    "pi   = np.pi\n",
    "inf  = np.inf\n",
    "#\n",
    "exp  = lambda x: np.exp(x)\n",
    "#\n",
    "vec  = lambda *args: np.array(args)\n",
    "unit = lambda *args: vec(*args)/norm(vec(*args))\n",
    "span = lambda eval, evec : np.tensordot(eval, evec, axes=0)\n",
    "#\n",
    "def norm(v):\n",
    "    if len(v.shape)>1:\n",
    "        return np.linalg.norm(v, axis=1)\n",
    "    else: return np.linalg.norm(v)\n",
    "def Crit(v):\n",
    "    n = np.where(v==0, 1, v)\n",
    "    print(n)\n",
    "    v = np.where(v==0, 0, 1/n)\n",
    "    v[(np.where(v==0)[0]+1)%3] *= -1\n",
    "    return v\n",
    "def Orthogonal(v):\n",
    "    z = np.count_nonzero(v)\n",
    "    if z==1:\n",
    "        M = vec([0, 1, 0], [0, 0, 1], [1, 0, 0])\n",
    "        return M@v, M@M@v\n",
    "    if z==2: o = Crit(v)\n",
    "    if z==3: o = Crit(vec(*v[0:2], 0))\n",
    "    return (o, np.cross(v, o))"
   ]
  },
  {
   "cell_type": "markdown",
   "metadata": {},
   "source": [
    "---"
   ]
  },
  {
   "cell_type": "code",
   "execution_count": null,
   "metadata": {},
   "outputs": [],
   "source": []
  },
  {
   "cell_type": "markdown",
   "metadata": {},
   "source": [
    "---"
   ]
  },
  {
   "cell_type": "code",
   "execution_count": 137,
   "metadata": {},
   "outputs": [],
   "source": [
    "Sr = Atom(32)\n",
    "Ti = Atom(22)\n",
    "Ru = Atom(44)\n",
    "O  = Atom(8)\n",
    "In = Atom(49)\n",
    "Sb = Atom(51)\n",
    "\n",
    "#\n",
    "sto = Perovskite(\n",
    "\tabc = 3.905 * vec(1, 1, 1),\n",
    "\tABO = (Sr, Ti, O)\n",
    ")\n",
    "# sro = Perovskite(\n",
    "#     abc = Molecule.pseudocubic(5.567, 5.5304, 7.8446),\n",
    "#     ABO = (Sr, Ru, O)\n",
    "# )\n",
    "#\n",
    "STO_ML  = Film(sto, (1,1,1))\n",
    "STO_Bulk  = Film(sto, (1,1,inf))\n",
    "STO_Rough = RoughCut(sto, (1, 1, inf), nref=(0,0,1), beta=0.2)\n",
    "# SRO = Film(sro/sto(0,0,1), (inf,inf,10))"
   ]
  }
 ],
 "metadata": {
  "kernelspec": {
   "display_name": "base",
   "language": "python",
   "name": "python3"
  },
  "language_info": {
   "codemirror_mode": {
    "name": "ipython",
    "version": 3
   },
   "file_extension": ".py",
   "mimetype": "text/x-python",
   "name": "python",
   "nbconvert_exporter": "python",
   "pygments_lexer": "ipython3",
   "version": "3.9.13"
  }
 },
 "nbformat": 4,
 "nbformat_minor": 2
}
